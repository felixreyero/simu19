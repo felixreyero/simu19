{
 "cells": [
  {
   "cell_type": "markdown",
   "metadata": {},
   "source": [
    "# Guia1"
   ]
  },
  {
   "cell_type": "markdown",
   "metadata": {},
   "source": [
    "## ejercicio 1"
   ]
  },
  {
   "cell_type": "code",
   "execution_count": 1,
   "metadata": {},
   "outputs": [],
   "source": [
    "import numpy as np\n",
    "import matplotlib.pyplot as plt"
   ]
  },
  {
   "cell_type": "code",
   "execution_count": 2,
   "metadata": {},
   "outputs": [],
   "source": [
    "# a.\n",
    "def U(a, c, m, x0):\n",
    "    return (a * x0 + c) % m"
   ]
  },
  {
   "cell_type": "code",
   "execution_count": 3,
   "metadata": {},
   "outputs": [
    {
     "name": "stdout",
     "output_type": "stream",
     "text": [
      "[4, 1, 8, 5, 2, 9, 6, 3, 0, 7, 4]\n"
     ]
    }
   ],
   "source": [
    "def generar_sec(U0, a, c, m):\n",
    "    sec = []\n",
    "    Un = U0\n",
    "    for i in range(1, 12):\n",
    "        Un = U(a, c, m, Un)\n",
    "        sec.append(Un)\n",
    "    return sec\n",
    "\n",
    "a = 1\n",
    "c = 7\n",
    "m = 10\n",
    "U0 = 7\n",
    "\n",
    "sec = generar_sec(U0, a, c, m)\n",
    "print(sec)"
   ]
  },
  {
   "cell_type": "code",
   "execution_count": 4,
   "metadata": {},
   "outputs": [
    {
     "name": "stdout",
     "output_type": "stream",
     "text": [
      "[8, 5, 2, 9, 6, 3, 0, 7, 4, 1, 8]\n"
     ]
    }
   ],
   "source": [
    "# b.\n",
    "U0 = 1\n",
    "sec = generar_sec(U0, a, c, m)\n",
    "print(sec)"
   ]
  },
  {
   "cell_type": "code",
   "execution_count": 5,
   "metadata": {},
   "outputs": [],
   "source": [
    "# c.\n",
    "# No es válido porque tiene periodo 10. Para ser ideal no deberia tener período,\n",
    "# deben ser independientes los valores entre si. Es como una cinta que voy moviendo de lugar"
   ]
  },
  {
   "cell_type": "code",
   "execution_count": 6,
   "metadata": {},
   "outputs": [
    {
     "data": {
      "text/plain": [
       "[10, 13, 16, 19, 22, 25, 28, 31, 34, 37, 40]"
      ]
     },
     "execution_count": 6,
     "metadata": {},
     "output_type": "execute_result"
    }
   ],
   "source": [
    "# Mejoras:\n",
    "\n",
    "## Agrandar m.\n",
    "# generar_sec(1, 17, 3, 1011)\n",
    "\n",
    "## Achicar a(porque si es grande te achica el periodo). El ideal es a=1. Por mas que agrandes \"m\"\n",
    "## si \"a\" es grande te da periodo chico\n",
    "# generar_sec(7, 6, 3, 10)\n",
    "\n",
    "generar_sec(7, 1, 3, 1000)"
   ]
  },
  {
   "cell_type": "markdown",
   "metadata": {},
   "source": [
    "## ejercicio 4"
   ]
  },
  {
   "cell_type": "code",
   "execution_count": 7,
   "metadata": {},
   "outputs": [
    {
     "data": {
      "text/plain": [
       "[6, 4, 5, 1, 3, 2, 6, 4, 5, 1, 3]"
      ]
     },
     "execution_count": 7,
     "metadata": {},
     "output_type": "execute_result"
    }
   ],
   "source": [
    "a = 3\n",
    "c = 0\n",
    "m = 7\n",
    "U0 = 9\n",
    "\n",
    "generar_sec(U0, a, c, m)\n",
    "\n",
    "# periodo = 6 => 6 * 8 = 48 => X48=2, X49=6, X50=4, X51 = 5"
   ]
  },
  {
   "cell_type": "markdown",
   "metadata": {},
   "source": [
    "## ejercicio de clase"
   ]
  },
  {
   "cell_type": "code",
   "execution_count": 8,
   "metadata": {},
   "outputs": [
    {
     "data": {
      "image/png": "[encoded data removed]",
      "text/plain": [
       "<Figure size 432x288 with 1 Axes>"
      ]
     },
     "metadata": {
      "needs_background": "light"
     },
     "output_type": "display_data"
    }
   ],
   "source": [
    "# chequeo con un histograma que la distribucion generada con U() sea la correcta (uniforme)\n",
    "def generar_sec_larga(U0, a, c, m):\n",
    "    sec = []\n",
    "    Un = U0\n",
    "    for i in range(1, 10000):\n",
    "        Un = U(a, c, m, Un)\n",
    "        sec.append(Un)\n",
    "    return sec\n",
    "\n",
    "a = 1013904223\n",
    "c = 1664525\n",
    "m = 2**32\n",
    "U0 = 7\n",
    "\n",
    "sec = generar_sec_larga(U0, a, c, m)\n",
    "\n",
    "n = np.array(sec)\n",
    "\n",
    "plt.hist(n, 100)\n",
    "plt.show()"
   ]
  },
  {
   "cell_type": "code",
   "execution_count": 9,
   "metadata": {},
   "outputs": [
    {
     "data": {
      "image/png": "[encoded data removed]",
      "text/plain": [
       "<Figure size 432x288 with 1 Axes>"
      ]
     },
     "metadata": {
      "needs_background": "light"
     },
     "output_type": "display_data"
    }
   ],
   "source": [
    "# chequeo con un histograma que la distribucion generada con U()/m sea la correcta (uniforme)\n",
    "\n",
    "# para uniforme [0, 1]\n",
    "def generar_sec_larga2(U0):\n",
    "    sec = []\n",
    "    Un = U0\n",
    "    for i in range(1, 10000):\n",
    "        # genero un numero aleatorio entre [0, m]\n",
    "        Un = U(a, c, m, Un)\n",
    "        # para obtener la distribucion uniforme [0, 1] divido por \"m\" y guardo ese valor\n",
    "        # en una nueva variable para no afectar la raiz del Un+1 del generador\n",
    "        r = Un/m\n",
    "        sec.append(r)\n",
    "    return sec\n",
    "\n",
    "U0 = 7\n",
    "sec = generar_sec_larga2(U0)\n",
    "\n",
    "n = np.array(sec)\n",
    "\n",
    "plt.hist(n, 100)\n",
    "plt.show()"
   ]
  },
  {
   "cell_type": "code",
   "execution_count": 10,
   "metadata": {},
   "outputs": [],
   "source": [
    "def f(x):\n",
    "    return 20*x*(1-x)**3"
   ]
  },
  {
   "cell_type": "code",
   "execution_count": 11,
   "metadata": {},
   "outputs": [
    {
     "data": {
      "image/png": "[encoded data removed]",
      "text/plain": [
       "<Figure size 432x288 with 1 Axes>"
      ]
     },
     "metadata": {
      "needs_background": "light"
     },
     "output_type": "display_data"
    }
   ],
   "source": [
    "# grafico de f(x)\n",
    "t1 = np.arange(0.0, 1.0, 0.01)\n",
    "\n",
    "plt.plot(t1, f(t1))\n",
    "plt.show()"
   ]
  },
  {
   "cell_type": "code",
   "execution_count": 12,
   "metadata": {},
   "outputs": [
    {
     "data": {
      "text/plain": [
       "4746"
      ]
     },
     "execution_count": 12,
     "metadata": {},
     "output_type": "execute_result"
    }
   ],
   "source": [
    "a = 1013904223\n",
    "c = 1664525\n",
    "m = 2**32\n",
    "\n",
    "# primer variable aleatorio con distrib uniforme [0, 1]\n",
    "qn = 7\n",
    "# segunda variable aleatorio con distrib uniforme [0, 1]\n",
    "zn = 9\n",
    "\n",
    "uniforme = []\n",
    "\n",
    "sec = []\n",
    "for i in range(10000):\n",
    "    qn = U(a, c, m, qn)\n",
    "    # guardo en una nueva variable para no afectar el \"qn\" que sera la raiz del \"qn+1\".\n",
    "    # Lo mismo con \"z\"\n",
    "    q = qn / m\n",
    "    # para chequear que \"q\" tenga distrib uniforme\n",
    "    uniforme.append(q)\n",
    "    zn = U(a, c, m, zn)\n",
    "    z = zn / m\n",
    "\n",
    "    if( z < (f(q)*64)/135 ):\n",
    "        sec.append(q)\n",
    "\n",
    "len(sec)"
   ]
  },
  {
   "cell_type": "code",
   "execution_count": 13,
   "metadata": {},
   "outputs": [
    {
     "data": {
      "image/png": "[encoded data removed]",
      "text/plain": [
       "<Figure size 432x288 with 1 Axes>"
      ]
     },
     "metadata": {
      "needs_background": "light"
     },
     "output_type": "display_data"
    },
    {
     "data": {
      "image/png": "[encoded data removed]",
      "text/plain": [
       "<Figure size 432x288 with 1 Axes>"
      ]
     },
     "metadata": {
      "needs_background": "light"
     },
     "output_type": "display_data"
    }
   ],
   "source": [
    "n = np.array(sec)\n",
    "\n",
    "plt.title('sec')\n",
    "plt.hist(n, 100)\n",
    "plt.show()\n",
    "\n",
    "n2 = np.array(uniforme)\n",
    "\n",
    "plt.title('a')\n",
    "plt.hist(n2, 100)\n",
    "plt.show()"
   ]
  }
 ],
 "metadata": {
  "kernelspec": {
   "display_name": "Python 3",
   "language": "python",
   "name": "python3"
  },
  "language_info": {
   "codemirror_mode": {
    "name": "ipython",
    "version": 3
   },
   "file_extension": ".py",
   "mimetype": "text/x-python",
   "name": "python",
   "nbconvert_exporter": "python",
   "pygments_lexer": "ipython3",
   "version": "3.6.8"
  }
 },
 "nbformat": 4,
 "nbformat_minor": 2
}
