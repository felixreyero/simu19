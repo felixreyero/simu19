{
 "cells": [
  {
   "cell_type": "code",
   "execution_count": 1,
   "metadata": {},
   "outputs": [],
   "source": [
    "import numpy as np\n",
    "import matplotlib.pyplot as plt"
   ]
  },
  {
   "cell_type": "code",
   "execution_count": 2,
   "metadata": {},
   "outputs": [],
   "source": [
    "# generador de 0 a 9 hacer test espectral\n",
    "\n",
    "def U(a, c, m, x0):\n",
    "    return (a * x0 + c) % m"
   ]
  },
  {
   "cell_type": "code",
   "execution_count": 8,
   "metadata": {},
   "outputs": [
    {
     "name": "stdout",
     "output_type": "stream",
     "text": [
      "[14, 21, 28, 35, 42, 49, 56, 63, 70, 77, 84, 91, 98, 5, 12, 19, 26, 33, 40, 47, 54, 61, 68, 75, 82, 89, 96, 3, 10, 17, 24, 31, 38, 45, 52, 59, 66, 73, 80, 87, 94, 1, 8, 15, 22, 29, 36, 43, 50, 57, 64, 71, 78, 85, 92, 99, 6, 13, 20, 27, 34, 41, 48, 55, 62, 69, 76, 83, 90, 97, 4, 11, 18, 25, 32, 39, 46, 53, 60, 67, 74, 81, 88, 95, 2, 9, 16, 23, 30, 37, 44, 51, 58, 65, 72, 79, 86, 93, 0, 7]\n"
     ]
    }
   ],
   "source": [
    "def generar_sec(U0, a, c, m):\n",
    "    sec = []\n",
    "    Un = U0\n",
    "    for i in range(0, 100):\n",
    "        Un = U(a, c, m, Un)\n",
    "        sec.append(Un)\n",
    "    return sec\n",
    "\n",
    "a = 1\n",
    "c = 7\n",
    "m = 100\n",
    "U0 = 7\n",
    "\n",
    "sec = generar_sec(U0, a, c, m)\n",
    "print(sec)"
   ]
  },
  {
   "cell_type": "code",
   "execution_count": 9,
   "metadata": {},
   "outputs": [
    {
     "name": "stdout",
     "output_type": "stream",
     "text": [
      "[(14, 21), (21, 28), (28, 35), (35, 42), (42, 49), (49, 56), (56, 63), (63, 70), (70, 77), (77, 84), (84, 91), (91, 98), (98, 5), (5, 12), (12, 19), (19, 26), (26, 33), (33, 40), (40, 47), (47, 54), (54, 61), (61, 68), (68, 75), (75, 82), (82, 89), (89, 96), (96, 3), (3, 10), (10, 17), (17, 24), (24, 31), (31, 38), (38, 45), (45, 52), (52, 59), (59, 66), (66, 73), (73, 80), (80, 87), (87, 94), (94, 1), (1, 8), (8, 15), (15, 22), (22, 29), (29, 36), (36, 43), (43, 50), (50, 57), (57, 64), (64, 71), (71, 78), (78, 85), (85, 92), (92, 99), (99, 6), (6, 13), (13, 20), (20, 27), (27, 34), (34, 41), (41, 48), (48, 55), (55, 62), (62, 69), (69, 76), (76, 83), (83, 90), (90, 97), (97, 4), (4, 11), (11, 18), (18, 25), (25, 32), (32, 39), (39, 46), (46, 53), (53, 60), (60, 67), (67, 74), (74, 81), (81, 88), (88, 95), (95, 2), (2, 9), (9, 16), (16, 23), (23, 30), (30, 37), (37, 44), (44, 51), (51, 58), (58, 65), (65, 72), (72, 79), (79, 86), (86, 93), (93, 0), (0, 7)]\n"
     ]
    }
   ],
   "source": [
    "pares = []\n",
    "for i in range(len(sec)-1):\n",
    "    par = (sec[i], sec[i+1])\n",
    "    pares.append(par)\n",
    "\n",
    "print(pares)"
   ]
  },
  {
   "cell_type": "code",
   "execution_count": 10,
   "metadata": {},
   "outputs": [
    {
     "name": "stdout",
     "output_type": "stream",
     "text": [
      "[14 21 28 35 42 49 56 63 70 77 84 91 98  5 12 19 26 33 40 47 54 61 68 75\n",
      " 82 89 96  3 10 17 24 31 38 45 52 59 66 73 80 87 94  1  8 15 22 29 36 43\n",
      " 50 57 64 71 78 85 92 99  6 13 20 27 34 41 48 55 62 69 76 83 90 97  4 11\n",
      " 18 25 32 39 46 53 60 67 74 81 88 95  2  9 16 23 30 37 44 51 58 65 72 79\n",
      " 86 93  0]\n",
      "[21 28 35 42 49 56 63 70 77 84 91 98  5 12 19 26 33 40 47 54 61 68 75 82\n",
      " 89 96  3 10 17 24 31 38 45 52 59 66 73 80 87 94  1  8 15 22 29 36 43 50\n",
      " 57 64 71 78 85 92 99  6 13 20 27 34 41 48 55 62 69 76 83 90 97  4 11 18\n",
      " 25 32 39 46 53 60 67 74 81 88 95  2  9 16 23 30 37 44 51 58 65 72 79 86\n",
      " 93  0  7]\n"
     ]
    },
    {
     "data": {
      "image/png": "[encoded data removed]",
      "text/plain": [
       "<Figure size 432x288 with 1 Axes>"
      ]
     },
     "metadata": {
      "needs_background": "light"
     },
     "output_type": "display_data"
    }
   ],
   "source": [
    "x = np.array([par[0] for par in pares])\n",
    "y = np.array([par[1] for par in pares])\n",
    "\n",
    "print(x)\n",
    "print(y)\n",
    "\n",
    "plt.scatter(x, y)\n",
    "plt.show()\n",
    "\n",
    "# como se genera patron de rectas no pasa test espectral"
   ]
  },
  {
   "cell_type": "code",
   "execution_count": 19,
   "metadata": {},
   "outputs": [
    {
     "name": "stdout",
     "output_type": "stream",
     "text": [
      "[48, 57, 26, 87, 64, 2, 90, 48, 81, 95, 95, 17, 81, 71, 57, 61, 50, 91, 97, 36, 29, 16, 9, 89, 75, 94, 81, 33, 22, 99, 11, 51, 76, 92, 41, 0, 45, 78, 64, 37, 5, 47, 2, 63, 8, 68, 93, 50, 73, 69, 54, 74, 97, 46, 57, 69, 38, 16, 87, 65, 43, 60, 73, 59, 88, 49, 57, 24, 53, 99, 12, 58, 1, 43, 69, 53, 2, 74, 57, 47, 45, 81, 66, 81, 63, 15, 71, 93, 50, 72, 81, 94, 15, 75, 36, 31, 83, 42, 60, 27]\n"
     ]
    }
   ],
   "source": [
    "from random import random\n",
    "\n",
    "# test espectral para generador rand de python\n",
    "\n",
    "def generar_sec():\n",
    "    sec = []\n",
    "    for i in range(0, 100):\n",
    "        Un = int(random()*100)\n",
    "        sec.append(Un)\n",
    "    return sec\n",
    "\n",
    "sec = generar_sec()\n",
    "print(sec)"
   ]
  },
  {
   "cell_type": "code",
   "execution_count": 20,
   "metadata": {},
   "outputs": [
    {
     "name": "stdout",
     "output_type": "stream",
     "text": [
      "[(48, 57), (57, 26), (26, 87), (87, 64), (64, 2), (2, 90), (90, 48), (48, 81), (81, 95), (95, 95), (95, 17), (17, 81), (81, 71), (71, 57), (57, 61), (61, 50), (50, 91), (91, 97), (97, 36), (36, 29), (29, 16), (16, 9), (9, 89), (89, 75), (75, 94), (94, 81), (81, 33), (33, 22), (22, 99), (99, 11), (11, 51), (51, 76), (76, 92), (92, 41), (41, 0), (0, 45), (45, 78), (78, 64), (64, 37), (37, 5), (5, 47), (47, 2), (2, 63), (63, 8), (8, 68), (68, 93), (93, 50), (50, 73), (73, 69), (69, 54), (54, 74), (74, 97), (97, 46), (46, 57), (57, 69), (69, 38), (38, 16), (16, 87), (87, 65), (65, 43), (43, 60), (60, 73), (73, 59), (59, 88), (88, 49), (49, 57), (57, 24), (24, 53), (53, 99), (99, 12), (12, 58), (58, 1), (1, 43), (43, 69), (69, 53), (53, 2), (2, 74), (74, 57), (57, 47), (47, 45), (45, 81), (81, 66), (66, 81), (81, 63), (63, 15), (15, 71), (71, 93), (93, 50), (50, 72), (72, 81), (81, 94), (94, 15), (15, 75), (75, 36), (36, 31), (31, 83), (83, 42), (42, 60), (60, 27)]\n"
     ]
    }
   ],
   "source": [
    "pares = []\n",
    "for i in range(len(sec)-1):\n",
    "    par = (sec[i], sec[i+1])\n",
    "    pares.append(par)\n",
    "\n",
    "print(pares)"
   ]
  },
  {
   "cell_type": "code",
   "execution_count": 21,
   "metadata": {},
   "outputs": [
    {
     "name": "stdout",
     "output_type": "stream",
     "text": [
      "[48 57 26 87 64  2 90 48 81 95 95 17 81 71 57 61 50 91 97 36 29 16  9 89\n",
      " 75 94 81 33 22 99 11 51 76 92 41  0 45 78 64 37  5 47  2 63  8 68 93 50\n",
      " 73 69 54 74 97 46 57 69 38 16 87 65 43 60 73 59 88 49 57 24 53 99 12 58\n",
      "  1 43 69 53  2 74 57 47 45 81 66 81 63 15 71 93 50 72 81 94 15 75 36 31\n",
      " 83 42 60]\n",
      "[57 26 87 64  2 90 48 81 95 95 17 81 71 57 61 50 91 97 36 29 16  9 89 75\n",
      " 94 81 33 22 99 11 51 76 92 41  0 45 78 64 37  5 47  2 63  8 68 93 50 73\n",
      " 69 54 74 97 46 57 69 38 16 87 65 43 60 73 59 88 49 57 24 53 99 12 58  1\n",
      " 43 69 53  2 74 57 47 45 81 66 81 63 15 71 93 50 72 81 94 15 75 36 31 83\n",
      " 42 60 27]\n"
     ]
    },
    {
     "data": {
      "image/png": "[encoded data removed]",
      "text/plain": [
       "<Figure size 432x288 with 1 Axes>"
      ]
     },
     "metadata": {
      "needs_background": "light"
     },
     "output_type": "display_data"
    }
   ],
   "source": [
    "x = np.array([par[0] for par in pares])\n",
    "y = np.array([par[1] for par in pares])\n",
    "\n",
    "print(x)\n",
    "print(y)\n",
    "\n",
    "plt.scatter(x, y)\n",
    "plt.show()\n",
    "\n",
    "# no se ve ningun patron entonces pasa test espectral"
   ]
  },
  {
   "cell_type": "markdown",
   "metadata": {},
   "source": [
    "# Ejer 19"
   ]
  },
  {
   "cell_type": "code",
   "execution_count": 43,
   "metadata": {},
   "outputs": [],
   "source": [
    "Ni = np.array([25, 8, 17, 20, 13, 13])\n",
    "n = 96\n",
    "pi = 1/6\n",
    "# numero de buckets\n",
    "k = 6\n",
    "\n",
    "alfa = 0.05 # 5%"
   ]
  },
  {
   "cell_type": "code",
   "execution_count": 37,
   "metadata": {},
   "outputs": [
    {
     "name": "stdout",
     "output_type": "stream",
     "text": [
      "11.25\n"
     ]
    }
   ],
   "source": [
    "chi_cua = sum((Ni - n*pi)**2)/(n*pi)\n",
    "print(chi_cua)"
   ]
  },
  {
   "cell_type": "code",
   "execution_count": 39,
   "metadata": {},
   "outputs": [],
   "source": [
    "from scipy.stats import chisquare"
   ]
  },
  {
   "cell_type": "code",
   "execution_count": 47,
   "metadata": {},
   "outputs": [
    {
     "name": "stdout",
     "output_type": "stream",
     "text": [
      "11.25\n",
      "0.046642443562767574\n",
      "rechazo\n"
     ]
    }
   ],
   "source": [
    "observados = np.array([25, 8, 17, 20, 13, 13])\n",
    "\n",
    "esperados = np.array([16, 16, 16, 16, 16, 16])\n",
    "\n",
    "h, p = chisquare(observados, esperados)\n",
    "\n",
    "print(h)\n",
    "print(p)\n",
    "\n",
    "print('aceptado') if (1-p < alfa) else print('rechazo')\n"
   ]
  },
  {
   "cell_type": "markdown",
   "metadata": {},
   "source": [
    "# Ejer 18"
   ]
  },
  {
   "cell_type": "code",
   "execution_count": 52,
   "metadata": {},
   "outputs": [
    {
     "name": "stdout",
     "output_type": "stream",
     "text": [
      "105\n",
      "[10.5 10.5 10.5 10.5 10.5 10.5 10.5 10.5 10.5 10.5]\n",
      "130.33333333333334\n",
      "1.0127675843713827e-23\n",
      "rechazo\n"
     ]
    }
   ],
   "source": [
    "alfa = 0.01 # 5%\n",
    "\n",
    "observados = np.array([0, 0, 24, 2, 25, 3, 32, 15, 2, 2])\n",
    "\n",
    "total_frec = sum(observados)\n",
    "print(total_frec)\n",
    "\n",
    "esperados = np.array([1/10*total_frec for x in observados])\n",
    "print(esperados)\n",
    "\n",
    "h, p = chisquare(observados, esperados)\n",
    "#h, p = chisquare(observados) -> sin frecuencia esperada, toma por defecto frecuencias equitativas\n",
    "\n",
    "print(h)\n",
    "print(p)\n",
    "\n",
    "print('aceptado') if (1-p < alfa) else print('rechazo')\n"
   ]
  },
  {
   "cell_type": "code",
   "execution_count": 54,
   "metadata": {},
   "outputs": [
    {
     "name": "stdout",
     "output_type": "stream",
     "text": [
      "105\n",
      "[13.125 13.125 13.125 13.125 13.125 13.125 13.125 13.125]\n",
      "83.26666666666667\n",
      "2.9656597226092657e-15\n",
      "rechazo\n"
     ]
    }
   ],
   "source": [
    "# repetimos el test para digitos desde 2 a 9\n",
    "\n",
    "observados = np.array([24, 2, 25, 3, 32, 15, 2, 2])\n",
    "\n",
    "total_frec = sum(observados)\n",
    "print(total_frec)\n",
    "\n",
    "esperados = np.array([1/8*total_frec for x in observados])\n",
    "print(esperados)\n",
    "\n",
    "h, p = chisquare(observados)\n",
    "\n",
    "print(h)\n",
    "print(p)\n",
    "\n",
    "print('aceptado') if (1-p < alfa) else print('rechazo')\n"
   ]
  },
  {
   "cell_type": "code",
   "execution_count": null,
   "metadata": {},
   "outputs": [],
   "source": []
  }
 ],
 "metadata": {
  "kernelspec": {
   "display_name": "Python 3",
   "language": "python",
   "name": "python3"
  },
  "language_info": {
   "codemirror_mode": {
    "name": "ipython",
    "version": 3
   },
   "file_extension": ".py",
   "mimetype": "text/x-python",
   "name": "python",
   "nbconvert_exporter": "python",
   "pygments_lexer": "ipython3",
   "version": "3.6.8"
  }
 },
 "nbformat": 4,
 "nbformat_minor": 2
}
