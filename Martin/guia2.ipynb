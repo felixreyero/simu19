{
 "cells": [
  {
   "cell_type": "code",
   "execution_count": 1,
   "metadata": {},
   "outputs": [],
   "source": [
    "import numpy as np\n",
    "import matplotlib.pyplot as plt"
   ]
  },
  {
   "cell_type": "markdown",
   "metadata": {},
   "source": [
    "# Ejer 7"
   ]
  },
  {
   "cell_type": "code",
   "execution_count": 2,
   "metadata": {},
   "outputs": [
    {
     "data": {
      "text/plain": [
       "0.6844079481849019"
      ]
     },
     "execution_count": 2,
     "metadata": {},
     "output_type": "execute_result"
    }
   ],
   "source": [
    "import random\n",
    "\n",
    "random.expovariate(3)"
   ]
  },
  {
   "cell_type": "code",
   "execution_count": 3,
   "metadata": {},
   "outputs": [],
   "source": [
    "def poisson(lambda_, n):\n",
    "    # x: tiempos acumulados de la exponencial\n",
    "    x = []\n",
    "    # y: numero de llegada de evento\n",
    "    y = []\n",
    "    # z: tiempos de llegada con distrib exponencial individuales\n",
    "    z = []\n",
    "    suma_tiempo_eventos = 0\n",
    "\n",
    "    for i in range(1, n+1):\n",
    "        ti = random.expovariate(lambda_)\n",
    "        z.append(ti)\n",
    "        suma_tiempo_eventos += ti\n",
    "        x.append(suma_tiempo_eventos)\n",
    "        y.append(i)\n",
    "\n",
    "    return x, y, z"
   ]
  },
  {
   "cell_type": "code",
   "execution_count": 4,
   "metadata": {},
   "outputs": [],
   "source": [
    "lambda_ = 3\n",
    "\n",
    "x, y, z = poisson(lambda_, 100)\n",
    "# print(x)\n",
    "# print(y)"
   ]
  },
  {
   "cell_type": "code",
   "execution_count": 5,
   "metadata": {},
   "outputs": [
    {
     "data": {
      "image/png": "[encoded data removed]",
      "text/plain": [
       "<Figure size 432x288 with 1 Axes>"
      ]
     },
     "metadata": {
      "needs_background": "light"
     },
     "output_type": "display_data"
    }
   ],
   "source": [
    "plt.step(x, y)\n",
    "plt.show()"
   ]
  },
  {
   "cell_type": "markdown",
   "metadata": {},
   "source": [
    "# Ejer 8"
   ]
  },
  {
   "cell_type": "code",
   "execution_count": 7,
   "metadata": {},
   "outputs": [
    {
     "data": {
      "image/png": "[encoded data removed]",
      "text/plain": [
       "<Figure size 432x288 with 1 Axes>"
      ]
     },
     "metadata": {
      "needs_background": "light"
     },
     "output_type": "display_data"
    },
    {
     "data": {
      "image/png": "[encoded data removed]",
      "text/plain": [
       "<Figure size 432x288 with 1 Axes>"
      ]
     },
     "metadata": {
      "needs_background": "light"
     },
     "output_type": "display_data"
    }
   ],
   "source": [
    "x1, y1, z1 = poisson(lambda_=2, n=500)\n",
    "x2, y2, z2 = poisson(lambda_=5, n=500)\n",
    "\n",
    "x3, y3, z3 = poisson(lambda_=7, n=1000)\n",
    "\n",
    "xs7 = x1 + x2\n",
    "xs7.sort()\n",
    "# sacamos los tiempos superiores a 120 seg porque solo aparece los lambda_=2\n",
    "# (esto se ve en el grafico de lambda_ = 7)\n",
    "xs7 = list(filter(lambda t: t <= 100, xs7))\n",
    "ys7 = y3[0:len(xs7)]\n",
    "# print(xs7)\n",
    "\n",
    "plt.step(x3, y3)\n",
    "plt.show()\n",
    "plt.step(xs7, ys7)\n",
    "plt.show()"
   ]
  },
  {
   "cell_type": "code",
   "execution_count": 8,
   "metadata": {},
   "outputs": [
    {
     "ename": "NameError",
     "evalue": "name 'x7' is not defined",
     "output_type": "error",
     "traceback": [
      "\u001b[0;31m---------------------------------------------------------------------------\u001b[0m",
      "\u001b[0;31mNameError\u001b[0m                                 Traceback (most recent call last)",
      "\u001b[0;32m<ipython-input-8-a80e65b6caa8>\u001b[0m in \u001b[0;36m<module>\u001b[0;34m\u001b[0m\n\u001b[1;32m      1\u001b[0m \u001b[0;31m# sacamos media de la exponencial de arrivos de eventos obtenida en la muestra\u001b[0m\u001b[0;34m\u001b[0m\u001b[0;34m\u001b[0m\u001b[0;34m\u001b[0m\u001b[0m\n\u001b[1;32m      2\u001b[0m \u001b[0;34m\u001b[0m\u001b[0m\n\u001b[0;32m----> 3\u001b[0;31m \u001b[0mdifs2\u001b[0m \u001b[0;34m=\u001b[0m \u001b[0;34m[\u001b[0m\u001b[0mx7\u001b[0m\u001b[0;34m[\u001b[0m\u001b[0;36m0\u001b[0m\u001b[0;34m]\u001b[0m\u001b[0;34m]\u001b[0m\u001b[0;34m\u001b[0m\u001b[0;34m\u001b[0m\u001b[0m\n\u001b[0m\u001b[1;32m      4\u001b[0m \u001b[0;32mfor\u001b[0m \u001b[0mi\u001b[0m \u001b[0;32min\u001b[0m \u001b[0mrange\u001b[0m\u001b[0;34m(\u001b[0m\u001b[0mlen\u001b[0m\u001b[0;34m(\u001b[0m\u001b[0mxs7\u001b[0m\u001b[0;34m)\u001b[0m\u001b[0;34m-\u001b[0m\u001b[0;36m1\u001b[0m\u001b[0;34m)\u001b[0m\u001b[0;34m:\u001b[0m\u001b[0;34m\u001b[0m\u001b[0;34m\u001b[0m\u001b[0m\n\u001b[1;32m      5\u001b[0m     \u001b[0mdif\u001b[0m \u001b[0;34m=\u001b[0m \u001b[0mxs7\u001b[0m\u001b[0;34m[\u001b[0m\u001b[0mi\u001b[0m\u001b[0;34m+\u001b[0m\u001b[0;36m1\u001b[0m\u001b[0;34m]\u001b[0m \u001b[0;34m-\u001b[0m \u001b[0mxs7\u001b[0m\u001b[0;34m[\u001b[0m\u001b[0mi\u001b[0m\u001b[0;34m]\u001b[0m\u001b[0;34m\u001b[0m\u001b[0;34m\u001b[0m\u001b[0m\n",
      "\u001b[0;31mNameError\u001b[0m: name 'x7' is not defined"
     ]
    }
   ],
   "source": [
    "# sacamos media de la exponencial de arrivos de eventos obtenida en la muestra\n",
    "\n",
    "difs2 = [x7[0]]\n",
    "for i in range(len(xs7)-1):\n",
    "    dif = xs7[i+1] - xs7[i]\n",
    "    difs2.append(dif)"
   ]
  },
  {
   "cell_type": "code",
   "execution_count": null,
   "metadata": {},
   "outputs": [],
   "source": [
    "media_invertida2 = sum(difs2)/len(difs2)\n",
    "1 / media_invertida2"
   ]
  },
  {
   "cell_type": "markdown",
   "metadata": {},
   "source": [
    "## en vez de ciclar por tam de muestra, ciclo hasta un tiempo"
   ]
  },
  {
   "cell_type": "code",
   "execution_count": 9,
   "metadata": {},
   "outputs": [],
   "source": [
    "def poissont(lambda_, t):\n",
    "    # x: tiempos acumulados de la exponencial\n",
    "    x = []\n",
    "    # y: numero de llegada de evento\n",
    "    y = []\n",
    "    # z: tiempos de llegada con distrib exponencial individuales\n",
    "    z = []\n",
    "    suma_tiempo_eventos = 0\n",
    "\n",
    "    i = 1\n",
    "    while suma_tiempo_eventos <= t:\n",
    "        ti = random.expovariate(lambda_)\n",
    "        z.append(ti)\n",
    "        suma_tiempo_eventos += ti\n",
    "        x.append(suma_tiempo_eventos)\n",
    "        y.append(i)\n",
    "        i += 1\n",
    "\n",
    "    return x, y, z"
   ]
  },
  {
   "cell_type": "code",
   "execution_count": 10,
   "metadata": {},
   "outputs": [
    {
     "data": {
      "image/png": "[encoded data removed]",
      "text/plain": [
       "<Figure size 432x288 with 1 Axes>"
      ]
     },
     "metadata": {
      "needs_background": "light"
     },
     "output_type": "display_data"
    },
    {
     "data": {
      "image/png": "[encoded data removed]",
      "text/plain": [
       "<Figure size 432x288 with 1 Axes>"
      ]
     },
     "metadata": {
      "needs_background": "light"
     },
     "output_type": "display_data"
    }
   ],
   "source": [
    "x1, y1, z1 = poissont(lambda_=2, t=500)\n",
    "x2, y2, z2 = poissont(lambda_=5, t=500)\n",
    "\n",
    "x7 = x1 + x2\n",
    "x7.sort()\n",
    "\n",
    "x3, y3, z3 = poissont(lambda_=7, t=500)\n",
    "\n",
    "plt.step(x3, y3)\n",
    "plt.show()\n",
    "plt.step(x7, range(len(y1+y2)))\n",
    "plt.show()"
   ]
  },
  {
   "cell_type": "code",
   "execution_count": 28,
   "metadata": {},
   "outputs": [
    {
     "name": "stdout",
     "output_type": "stream",
     "text": [
      "7.190127019425598\n"
     ]
    }
   ],
   "source": [
    "# sacamos media de la exponencial de arrivos de eventos obtenida en la muestra\n",
    "# esperamos que nos de lambda_ = 7\n",
    "\n",
    "difs2 = [x7[0]]\n",
    "for i in range(len(x7)-1):\n",
    "    dif = x7[i+1] - x7[i]\n",
    "    difs2.append(dif)\n",
    "\n",
    "media_intervalos = sum(difs2)/len(difs2)\n",
    "lambda_poisson = 1 / media_intervalos\n",
    "print(lambda_poisson)"
   ]
  },
  {
   "cell_type": "markdown",
   "metadata": {},
   "source": [
    "# Ejer 23"
   ]
  },
  {
   "cell_type": "code",
   "execution_count": 27,
   "metadata": {},
   "outputs": [
    {
     "name": "stdout",
     "output_type": "stream",
     "text": [
      "3.5394167598849386\n"
     ]
    }
   ],
   "source": [
    "z_total = []\n",
    "cant_int = 0\n",
    "for i in range(1000):\n",
    "    x, y, z = poissont(lambda_ = 7, t = random.random())\n",
    "    z_total += z\n",
    "    cant_int += len(z)\n",
    "\n",
    "#print(cant_int/1000) \n",
    "media_intervalos = sum(z_total)/len(z_total)\n",
    "lambda_poisson = 1/media_intervalos\n",
    "\n",
    "media = lambda_poisson / 2\n",
    "print(media)"
   ]
  }
 ],
 "metadata": {
  "kernelspec": {
   "display_name": "Python 3",
   "language": "python",
   "name": "python3"
  },
  "language_info": {
   "codemirror_mode": {
    "name": "ipython",
    "version": 3
   },
   "file_extension": ".py",
   "mimetype": "text/x-python",
   "name": "python",
   "nbconvert_exporter": "python",
   "pygments_lexer": "ipython3",
   "version": "3.6.8"
  }
 },
 "nbformat": 4,
 "nbformat_minor": 2
}
