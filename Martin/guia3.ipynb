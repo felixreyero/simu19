{
 "cells": [
  {
   "cell_type": "markdown",
   "metadata": {},
   "source": [
    "# Ejer 4"
   ]
  },
  {
   "cell_type": "code",
   "execution_count": 1,
   "metadata": {},
   "outputs": [],
   "source": [
    "import numpy as np\n",
    "from numpy.linalg import matrix_power"
   ]
  },
  {
   "cell_type": "code",
   "execution_count": 2,
   "metadata": {},
   "outputs": [
    {
     "data": {
      "text/plain": [
       "array([[0.88888889, 0.11111111],\n",
       "       [0.88888889, 0.11111111]])"
      ]
     },
     "execution_count": 2,
     "metadata": {},
     "output_type": "execute_result"
    }
   ],
   "source": [
    "m = np.array([ [0.95, 0.05], [0.4, 0.6] ])\n",
    "\n",
    "matrix_power(m, 100)\n",
    "# lim n->inf (p**n)\n",
    "\n",
    "# converge a un mismo valor\n",
    "# Arranque funcionando o rota (no importa en que estado inicie, lo que importa es que funcione mucho tiempo)\n",
    "# y despues de infinitas veces con 89% de prob va a funcionar\n",
    "\n",
    "# 11% del tiempo estuvo rota la maquina y 89% del tiempo funcionando"
   ]
  },
  {
   "cell_type": "code",
   "execution_count": 10,
   "metadata": {},
   "outputs": [
    {
     "name": "stdout",
     "output_type": "stream",
     "text": [
      "[[0.88888889 0.11111111]\n",
      " [0.88888889 0.11111111]]\n"
     ]
    },
    {
     "data": {
      "text/plain": [
       "array([[0.88888889, 0.11111111],\n",
       "       [0.88888889, 0.11111111]])"
      ]
     },
     "execution_count": 10,
     "metadata": {},
     "output_type": "execute_result"
    }
   ],
   "source": [
    "m_inf = matrix_power(m, 100)\n",
    "print(m_inf)\n",
    "np.matmul(m_inf, m)"
   ]
  },
  {
   "cell_type": "markdown",
   "metadata": {},
   "source": [
    "## d."
   ]
  },
  {
   "cell_type": "code",
   "execution_count": 20,
   "metadata": {},
   "outputs": [],
   "source": [
    "from random import random\n",
    "\n",
    "trabajando = np.matmul(np.array([1, 0]), m)\n",
    "rota = np.matmul(np.array([0, 1]), m)\n",
    "\n",
    "estados = []\n",
    "estado_actual = np.matmul(np.array([1, 0]), m)\n",
    "for i in range(1000):\n",
    "    u = random()\n",
    "    if u < estado_actual[0]:\n",
    "        estados.append('s1')\n",
    "        estado_actual = np.matmul(np.array([1, 0]), m)\n",
    "    else:\n",
    "        estados.append('s2')\n",
    "        estado_actual = np.matmul(np.array([0, 1]), m)\n"
   ]
  },
  {
   "cell_type": "code",
   "execution_count": 14,
   "metadata": {},
   "outputs": [
    {
     "data": {
      "text/plain": [
       "['s1',\n",
       " 's1',\n",
       " 's2',\n",
       " 's2',\n",
       " 's2',\n",
       " 's2',\n",
       " 's1',\n",
       " 's1',\n",
       " 's1',\n",
       " 's1',\n",
       " 's1',\n",
       " 's1',\n",
       " 's1',\n",
       " 's1',\n",
       " 's1',\n",
       " 's1',\n",
       " 's1',\n",
       " 's1',\n",
       " 's1',\n",
       " 's1']"
      ]
     },
     "execution_count": 14,
     "metadata": {},
     "output_type": "execute_result"
    }
   ],
   "source": [
    "estados"
   ]
  },
  {
   "cell_type": "code",
   "execution_count": 15,
   "metadata": {},
   "outputs": [],
   "source": [
    "import matplotlib.pyplot as plt"
   ]
  },
  {
   "cell_type": "code",
   "execution_count": 21,
   "metadata": {},
   "outputs": [
    {
     "data": {
      "text/plain": [
       "[<matplotlib.lines.Line2D at 0x7f637bd3ef28>]"
      ]
     },
     "execution_count": 21,
     "metadata": {},
     "output_type": "execute_result"
    },
    {
     "data": {
      "image/png": "[encoded data removed]",
      "text/plain": [
       "<Figure size 432x288 with 1 Axes>"
      ]
     },
     "metadata": {
      "needs_background": "light"
     },
     "output_type": "display_data"
    }
   ],
   "source": [
    "plt.plot(estados)"
   ]
  },
  {
   "cell_type": "code",
   "execution_count": 22,
   "metadata": {},
   "outputs": [
    {
     "data": {
      "text/plain": [
       "(array([8.84, 0.  , 0.  , 0.  , 0.  , 0.  , 0.  , 0.  , 0.  , 1.16]),\n",
       " array([0. , 0.1, 0.2, 0.3, 0.4, 0.5, 0.6, 0.7, 0.8, 0.9, 1. ]),\n",
       " <a list of 10 Patch objects>)"
      ]
     },
     "execution_count": 22,
     "metadata": {},
     "output_type": "execute_result"
    },
    {
     "data": {
      "image/png": "[encoded data removed]",
      "text/plain": [
       "<Figure size 432x288 with 1 Axes>"
      ]
     },
     "metadata": {
      "needs_background": "light"
     },
     "output_type": "display_data"
    }
   ],
   "source": [
    "plt.hist(estados, density=True)\n",
    "\n",
    "# cuanto hacemos muchas tiradas del experimento y calculamos cuantas veces estuvo en cada estado\n",
    "# queremos que las probabilidades se parezcan a la probabilidad limite"
   ]
  },
  {
   "cell_type": "code",
   "execution_count": null,
   "metadata": {},
   "outputs": [],
   "source": []
  }
 ],
 "metadata": {
  "kernelspec": {
   "display_name": "Python 3",
   "language": "python",
   "name": "python3"
  },
  "language_info": {
   "codemirror_mode": {
    "name": "ipython",
    "version": 3
   },
   "file_extension": ".py",
   "mimetype": "text/x-python",
   "name": "python",
   "nbconvert_exporter": "python",
   "pygments_lexer": "ipython3",
   "version": "3.6.8"
  }
 },
 "nbformat": 4,
 "nbformat_minor": 2
}
